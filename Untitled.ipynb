{
 "cells": [
  {
   "cell_type": "code",
   "execution_count": 1,
   "metadata": {},
   "outputs": [],
   "source": [
    "from arpeggio import Optional, ZeroOrMore, OneOrMore, EOF\n",
    "from arpeggio import RegExMatch as _"
   ]
  },
  {
   "cell_type": "markdown",
   "metadata": {},
   "source": [
    "```\n",
    "file = { soi ~ (attribute ~ \"\\n\")* ~ \"%%\\n\" ~ (syllable | \"\\n\")* ~ \"\\n\"* ~ eoi }\n",
    "\n",
    "attribute = { attribute_key ~ \":\" ~ attribute_value ~ \";\"}\n",
    "attribute_key = { (!(\":\"|\";\") ~ any)* }\n",
    "attribute_value = { (!(\":\"|\";\") ~ any)* }\n",
    "\n",
    "clef = { (\"c\" | \"f\") ~ ('1'..'4') }\n",
    "barline = { ( \";\" ~ ('1'..'6') | \";\" | \"::\" | \":?\" | \":'\" | \":\" | \",_\" | \",0\" | \",\" | \"'\" | \"`\" ) }\n",
    "spacer = { ( \"!\" | \"@\" | \"/\" | \"//\" | \"/0\" | \"/[\" ~ \"-\"? ~ ('0'..'9') ~ \"]\"  | \" \" ) }\n",
    "note = { prefix* ~ position ~ suffix* }\n",
    "prefix = { \"-\" }\n",
    "position = { ('a'..'m') | ('A'..'M') }\n",
    "suffix = { (\"~\" | \">\" | \"<\" | \"v\" | \"V\" | \"o~\" | \"o<\" | \"o\" | \"w\" | \"s<\" | \"s\" | \"x\" | \"y\" | \"#\" | \"..\" | \".\" | \"'\" | \"_\" ) }\n",
    "syllable = { string ~ \"(\" ~ (clef | note | barline | spacer)* ~ \")\" }\n",
    "\n",
    "string = { (!(\"(\") ~ any)* }\n",
    "```"
   ]
  },
  {
   "cell_type": "code",
   "execution_count": 71,
   "metadata": {},
   "outputs": [
    {
     "data": {
      "text/plain": [
       "[ [ [ attribute_key 'test' [1],  ':' [5], attribute_value 'abc' [6],  ';\n",
       "' [9] ], [ attribute_key 'boe' [11],  ':' [14], attribute_value '12' [15],  ';\n",
       "' [17] ] ],  '%%\n",
       "' [19] ]"
      ]
     },
     "execution_count": 71,
     "metadata": {},
     "output_type": "execute_result"
    }
   ],
   "source": [
    "# def file(): return ZeroOrMore(attribute), '%%\\n', ZeroOrMore([syllable, '\\n']), ZeroOrMore('\\n'), EOF\n",
    "def file(): return header, '%%\\n'\n",
    "def header(): return ZeroOrMore(attribute)\n",
    "def body(): return ZeroOrMore([syllable, '\\n']), ZeroOrMore('\\n')\n",
    "\n",
    "def attribute(): return attribute_key, ':', attribute_value, ';\\n'\n",
    "def attribute_key(): return _(r'[^:;]+')\n",
    "def attribute_value(): return _(r'[^:;]+')\n",
    "\n",
    "def clef(): return _(r'(c|f)[1-4]')\n",
    "def barline(): return _(r\",0|,_|,|'|`|::|:\\?|:|;[1-6]|;\")\n",
    "def spacer(): return _(r'\\!|@|//|/0|/\\[-?[0-9]\\]|/')\n",
    "\n",
    "def note(): return ZeroOrMore(prefix), position, ZeroOrMore(suffix)\n",
    "def prefix(): return ('-')\n",
    "def suffix(): return _(r'~|>|<|v|V|o~|o<|o|w|s<|s|x|y|#|\\.\\.|\\.|\\'|_')\n",
    "def position(): return _(r'[a-mA-M]')\n",
    "def music(): return \"(\", ZeroOrMore([clef, note, barline, spacer]), \")\"\n",
    "def text(): return _(r'[^\\(]+')\n",
    "def syllable(): return (text, music)\n",
    "\n",
    "parser = ParserPython(file)\n",
    "myfile  = \"\"\"\n",
    "test:abc;\n",
    "boe:12;\n",
    "%%\n",
    "asdfadf\n",
    "\"\"\"\n",
    "parser.parse(myfile)"
   ]
  },
  {
   "cell_type": "code",
   "execution_count": null,
   "metadata": {},
   "outputs": [],
   "source": [
    "def number():     return _(r'\\d*\\.\\d*|\\d+')\n",
    "def factor():     return Optional([\"+\",\"-\"]), [number, (\"(\", expression, \")\")]\n",
    "def term():       return factor, ZeroOrMore([\"*\",\"/\"], factor)\n",
    "def expression(): return term, ZeroOrMore([\"+\", \"-\"], term)\n",
    "def calc():       return OneOrMore(expression), EOF"
   ]
  },
  {
   "cell_type": "code",
   "execution_count": null,
   "metadata": {},
   "outputs": [],
   "source": []
  },
  {
   "cell_type": "code",
   "execution_count": 3,
   "metadata": {},
   "outputs": [
    {
     "data": {
      "text/plain": [
       "(<arpeggio.OneOrMore at 0x10c5e1208>, <function arpeggio.EOF()>)"
      ]
     },
     "execution_count": 3,
     "metadata": {},
     "output_type": "execute_result"
    }
   ],
   "source": [
    "calc()"
   ]
  },
  {
   "cell_type": "code",
   "execution_count": 4,
   "metadata": {},
   "outputs": [],
   "source": [
    "from arpeggio import ParserPython\n",
    "parser = ParserPython(calc)"
   ]
  },
  {
   "cell_type": "code",
   "execution_count": 9,
   "metadata": {},
   "outputs": [
    {
     "data": {
      "text/plain": [
       "[ [ [ [ number '2' [0] ] ],  '+' [1], [ [ number '3' [2] ] ] ], EOF [3] ]"
      ]
     },
     "execution_count": 9,
     "metadata": {},
     "output_type": "execute_result"
    }
   ],
   "source": [
    "parse_tree = parser.parse(\"2+3\")\n",
    "parse_tree"
   ]
  },
  {
   "cell_type": "code",
   "execution_count": 8,
   "metadata": {},
   "outputs": [
    {
     "data": {
      "text/plain": [
       "[ [ [ [ number '2' [0] ] ],  '+' [1], [ [ number '3' [2] ] ] ], EOF [3] ]"
      ]
     },
     "execution_count": 8,
     "metadata": {},
     "output_type": "execute_result"
    }
   ],
   "source": []
  },
  {
   "cell_type": "code",
   "execution_count": null,
   "metadata": {},
   "outputs": [],
   "source": []
  }
 ],
 "metadata": {
  "kernelspec": {
   "display_name": "Python 3",
   "language": "python",
   "name": "python3"
  },
  "language_info": {
   "codemirror_mode": {
    "name": "ipython",
    "version": 3
   },
   "file_extension": ".py",
   "mimetype": "text/x-python",
   "name": "python",
   "nbconvert_exporter": "python",
   "pygments_lexer": "ipython3",
   "version": "3.7.2"
  }
 },
 "nbformat": 4,
 "nbformat_minor": 2
}
